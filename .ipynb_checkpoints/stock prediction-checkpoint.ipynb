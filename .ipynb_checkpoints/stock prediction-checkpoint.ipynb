{
 "cells": [
  {
   "cell_type": "code",
   "execution_count": 32,
   "metadata": {},
   "outputs": [],
   "source": [
    "import numpy as np\n",
    "import matplotlib.pyplot as plt\n",
    "import pandas as pd\n",
    "from sklearn.preprocessing import MinMaxScaler"
   ]
  },
  {
   "cell_type": "code",
   "execution_count": 36,
   "metadata": {},
   "outputs": [
    {
     "data": {
      "text/html": [
       "<div>\n",
       "<style scoped>\n",
       "    .dataframe tbody tr th:only-of-type {\n",
       "        vertical-align: middle;\n",
       "    }\n",
       "\n",
       "    .dataframe tbody tr th {\n",
       "        vertical-align: top;\n",
       "    }\n",
       "\n",
       "    .dataframe thead th {\n",
       "        text-align: right;\n",
       "    }\n",
       "</style>\n",
       "<table border=\"1\" class=\"dataframe\">\n",
       "  <thead>\n",
       "    <tr style=\"text-align: right;\">\n",
       "      <th></th>\n",
       "      <th>Date</th>\n",
       "      <th>Open</th>\n",
       "      <th>High</th>\n",
       "      <th>Low</th>\n",
       "      <th>Close</th>\n",
       "      <th>Adj Close</th>\n",
       "      <th>Volume</th>\n",
       "    </tr>\n",
       "  </thead>\n",
       "  <tbody>\n",
       "    <tr>\n",
       "      <th>1254</th>\n",
       "      <td>2020-11-20</td>\n",
       "      <td>1765.209961</td>\n",
       "      <td>1774.000000</td>\n",
       "      <td>1741.859985</td>\n",
       "      <td>1742.189941</td>\n",
       "      <td>1742.189941</td>\n",
       "      <td>2313500</td>\n",
       "    </tr>\n",
       "    <tr>\n",
       "      <th>1255</th>\n",
       "      <td>2020-11-23</td>\n",
       "      <td>1749.599976</td>\n",
       "      <td>1753.900024</td>\n",
       "      <td>1717.719971</td>\n",
       "      <td>1734.859985</td>\n",
       "      <td>1734.859985</td>\n",
       "      <td>2161600</td>\n",
       "    </tr>\n",
       "    <tr>\n",
       "      <th>1256</th>\n",
       "      <td>2020-11-24</td>\n",
       "      <td>1730.500000</td>\n",
       "      <td>1771.599976</td>\n",
       "      <td>1727.689941</td>\n",
       "      <td>1768.880005</td>\n",
       "      <td>1768.880005</td>\n",
       "      <td>1578000</td>\n",
       "    </tr>\n",
       "    <tr>\n",
       "      <th>1257</th>\n",
       "      <td>2020-11-25</td>\n",
       "      <td>1772.890015</td>\n",
       "      <td>1778.540039</td>\n",
       "      <td>1756.540039</td>\n",
       "      <td>1771.430054</td>\n",
       "      <td>1771.430054</td>\n",
       "      <td>1045800</td>\n",
       "    </tr>\n",
       "    <tr>\n",
       "      <th>1258</th>\n",
       "      <td>2020-11-27</td>\n",
       "      <td>1773.089966</td>\n",
       "      <td>1804.000000</td>\n",
       "      <td>1772.439941</td>\n",
       "      <td>1793.189941</td>\n",
       "      <td>1793.189941</td>\n",
       "      <td>884900</td>\n",
       "    </tr>\n",
       "  </tbody>\n",
       "</table>\n",
       "</div>"
      ],
      "text/plain": [
       "            Date         Open         High          Low        Close  \\\n",
       "1254  2020-11-20  1765.209961  1774.000000  1741.859985  1742.189941   \n",
       "1255  2020-11-23  1749.599976  1753.900024  1717.719971  1734.859985   \n",
       "1256  2020-11-24  1730.500000  1771.599976  1727.689941  1768.880005   \n",
       "1257  2020-11-25  1772.890015  1778.540039  1756.540039  1771.430054   \n",
       "1258  2020-11-27  1773.089966  1804.000000  1772.439941  1793.189941   \n",
       "\n",
       "        Adj Close   Volume  \n",
       "1254  1742.189941  2313500  \n",
       "1255  1734.859985  2161600  \n",
       "1256  1768.880005  1578000  \n",
       "1257  1771.430054  1045800  \n",
       "1258  1793.189941   884900  "
      ]
     },
     "execution_count": 36,
     "metadata": {},
     "output_type": "execute_result"
    }
   ],
   "source": [
    "data = pd.read_csv('GOOG.csv', date_parser = True)\n",
    "data.tail()"
   ]
  },
  {
   "cell_type": "code",
   "execution_count": 40,
   "metadata": {},
   "outputs": [],
   "source": [
    "data_training = data[data['Date']<'2020-01-01'].copy()\n",
    "data_test = data[data['Date']>='2020-01-01'].copy()"
   ]
  },
  {
   "cell_type": "code",
   "execution_count": 110,
   "metadata": {
    "scrolled": false
   },
   "outputs": [
    {
     "ename": "KeyError",
     "evalue": "\"['Date' 'Adj Close'] not found in axis\"",
     "output_type": "error",
     "traceback": [
      "\u001b[0;31m---------------------------------------------------------------------------\u001b[0m",
      "\u001b[0;31mKeyError\u001b[0m                                  Traceback (most recent call last)",
      "\u001b[0;32m<ipython-input-110-a46a588356eb>\u001b[0m in \u001b[0;36m<module>\u001b[0;34m\u001b[0m\n\u001b[0;32m----> 1\u001b[0;31m \u001b[0mdata_training\u001b[0m \u001b[0;34m=\u001b[0m \u001b[0mdata_training\u001b[0m\u001b[0;34m.\u001b[0m\u001b[0mdrop\u001b[0m\u001b[0;34m(\u001b[0m\u001b[0;34m[\u001b[0m\u001b[0;34m'Date'\u001b[0m\u001b[0;34m,\u001b[0m \u001b[0;34m'Adj Close'\u001b[0m\u001b[0;34m]\u001b[0m\u001b[0;34m,\u001b[0m \u001b[0maxis\u001b[0m \u001b[0;34m=\u001b[0m \u001b[0;36m1\u001b[0m\u001b[0;34m)\u001b[0m\u001b[0;34m\u001b[0m\u001b[0;34m\u001b[0m\u001b[0m\n\u001b[0m",
      "\u001b[0;32m~/anaconda3/lib/python3.8/site-packages/pandas/core/frame.py\u001b[0m in \u001b[0;36mdrop\u001b[0;34m(self, labels, axis, index, columns, level, inplace, errors)\u001b[0m\n\u001b[1;32m   4161\u001b[0m                 \u001b[0mweight\u001b[0m  \u001b[0;36m1.0\u001b[0m     \u001b[0;36m0.8\u001b[0m\u001b[0;34m\u001b[0m\u001b[0;34m\u001b[0m\u001b[0m\n\u001b[1;32m   4162\u001b[0m         \"\"\"\n\u001b[0;32m-> 4163\u001b[0;31m         return super().drop(\n\u001b[0m\u001b[1;32m   4164\u001b[0m             \u001b[0mlabels\u001b[0m\u001b[0;34m=\u001b[0m\u001b[0mlabels\u001b[0m\u001b[0;34m,\u001b[0m\u001b[0;34m\u001b[0m\u001b[0;34m\u001b[0m\u001b[0m\n\u001b[1;32m   4165\u001b[0m             \u001b[0maxis\u001b[0m\u001b[0;34m=\u001b[0m\u001b[0maxis\u001b[0m\u001b[0;34m,\u001b[0m\u001b[0;34m\u001b[0m\u001b[0;34m\u001b[0m\u001b[0m\n",
      "\u001b[0;32m~/anaconda3/lib/python3.8/site-packages/pandas/core/generic.py\u001b[0m in \u001b[0;36mdrop\u001b[0;34m(self, labels, axis, index, columns, level, inplace, errors)\u001b[0m\n\u001b[1;32m   3885\u001b[0m         \u001b[0;32mfor\u001b[0m \u001b[0maxis\u001b[0m\u001b[0;34m,\u001b[0m \u001b[0mlabels\u001b[0m \u001b[0;32min\u001b[0m \u001b[0maxes\u001b[0m\u001b[0;34m.\u001b[0m\u001b[0mitems\u001b[0m\u001b[0;34m(\u001b[0m\u001b[0;34m)\u001b[0m\u001b[0;34m:\u001b[0m\u001b[0;34m\u001b[0m\u001b[0;34m\u001b[0m\u001b[0m\n\u001b[1;32m   3886\u001b[0m             \u001b[0;32mif\u001b[0m \u001b[0mlabels\u001b[0m \u001b[0;32mis\u001b[0m \u001b[0;32mnot\u001b[0m \u001b[0;32mNone\u001b[0m\u001b[0;34m:\u001b[0m\u001b[0;34m\u001b[0m\u001b[0;34m\u001b[0m\u001b[0m\n\u001b[0;32m-> 3887\u001b[0;31m                 \u001b[0mobj\u001b[0m \u001b[0;34m=\u001b[0m \u001b[0mobj\u001b[0m\u001b[0;34m.\u001b[0m\u001b[0m_drop_axis\u001b[0m\u001b[0;34m(\u001b[0m\u001b[0mlabels\u001b[0m\u001b[0;34m,\u001b[0m \u001b[0maxis\u001b[0m\u001b[0;34m,\u001b[0m \u001b[0mlevel\u001b[0m\u001b[0;34m=\u001b[0m\u001b[0mlevel\u001b[0m\u001b[0;34m,\u001b[0m \u001b[0merrors\u001b[0m\u001b[0;34m=\u001b[0m\u001b[0merrors\u001b[0m\u001b[0;34m)\u001b[0m\u001b[0;34m\u001b[0m\u001b[0;34m\u001b[0m\u001b[0m\n\u001b[0m\u001b[1;32m   3888\u001b[0m \u001b[0;34m\u001b[0m\u001b[0m\n\u001b[1;32m   3889\u001b[0m         \u001b[0;32mif\u001b[0m \u001b[0minplace\u001b[0m\u001b[0;34m:\u001b[0m\u001b[0;34m\u001b[0m\u001b[0;34m\u001b[0m\u001b[0m\n",
      "\u001b[0;32m~/anaconda3/lib/python3.8/site-packages/pandas/core/generic.py\u001b[0m in \u001b[0;36m_drop_axis\u001b[0;34m(self, labels, axis, level, errors)\u001b[0m\n\u001b[1;32m   3919\u001b[0m                 \u001b[0mnew_axis\u001b[0m \u001b[0;34m=\u001b[0m \u001b[0maxis\u001b[0m\u001b[0;34m.\u001b[0m\u001b[0mdrop\u001b[0m\u001b[0;34m(\u001b[0m\u001b[0mlabels\u001b[0m\u001b[0;34m,\u001b[0m \u001b[0mlevel\u001b[0m\u001b[0;34m=\u001b[0m\u001b[0mlevel\u001b[0m\u001b[0;34m,\u001b[0m \u001b[0merrors\u001b[0m\u001b[0;34m=\u001b[0m\u001b[0merrors\u001b[0m\u001b[0;34m)\u001b[0m\u001b[0;34m\u001b[0m\u001b[0;34m\u001b[0m\u001b[0m\n\u001b[1;32m   3920\u001b[0m             \u001b[0;32melse\u001b[0m\u001b[0;34m:\u001b[0m\u001b[0;34m\u001b[0m\u001b[0;34m\u001b[0m\u001b[0m\n\u001b[0;32m-> 3921\u001b[0;31m                 \u001b[0mnew_axis\u001b[0m \u001b[0;34m=\u001b[0m \u001b[0maxis\u001b[0m\u001b[0;34m.\u001b[0m\u001b[0mdrop\u001b[0m\u001b[0;34m(\u001b[0m\u001b[0mlabels\u001b[0m\u001b[0;34m,\u001b[0m \u001b[0merrors\u001b[0m\u001b[0;34m=\u001b[0m\u001b[0merrors\u001b[0m\u001b[0;34m)\u001b[0m\u001b[0;34m\u001b[0m\u001b[0;34m\u001b[0m\u001b[0m\n\u001b[0m\u001b[1;32m   3922\u001b[0m             \u001b[0mresult\u001b[0m \u001b[0;34m=\u001b[0m \u001b[0mself\u001b[0m\u001b[0;34m.\u001b[0m\u001b[0mreindex\u001b[0m\u001b[0;34m(\u001b[0m\u001b[0;34m**\u001b[0m\u001b[0;34m{\u001b[0m\u001b[0maxis_name\u001b[0m\u001b[0;34m:\u001b[0m \u001b[0mnew_axis\u001b[0m\u001b[0;34m}\u001b[0m\u001b[0;34m)\u001b[0m\u001b[0;34m\u001b[0m\u001b[0;34m\u001b[0m\u001b[0m\n\u001b[1;32m   3923\u001b[0m \u001b[0;34m\u001b[0m\u001b[0m\n",
      "\u001b[0;32m~/anaconda3/lib/python3.8/site-packages/pandas/core/indexes/base.py\u001b[0m in \u001b[0;36mdrop\u001b[0;34m(self, labels, errors)\u001b[0m\n\u001b[1;32m   5280\u001b[0m         \u001b[0;32mif\u001b[0m \u001b[0mmask\u001b[0m\u001b[0;34m.\u001b[0m\u001b[0many\u001b[0m\u001b[0;34m(\u001b[0m\u001b[0;34m)\u001b[0m\u001b[0;34m:\u001b[0m\u001b[0;34m\u001b[0m\u001b[0;34m\u001b[0m\u001b[0m\n\u001b[1;32m   5281\u001b[0m             \u001b[0;32mif\u001b[0m \u001b[0merrors\u001b[0m \u001b[0;34m!=\u001b[0m \u001b[0;34m\"ignore\"\u001b[0m\u001b[0;34m:\u001b[0m\u001b[0;34m\u001b[0m\u001b[0;34m\u001b[0m\u001b[0m\n\u001b[0;32m-> 5282\u001b[0;31m                 \u001b[0;32mraise\u001b[0m \u001b[0mKeyError\u001b[0m\u001b[0;34m(\u001b[0m\u001b[0;34mf\"{labels[mask]} not found in axis\"\u001b[0m\u001b[0;34m)\u001b[0m\u001b[0;34m\u001b[0m\u001b[0;34m\u001b[0m\u001b[0m\n\u001b[0m\u001b[1;32m   5283\u001b[0m             \u001b[0mindexer\u001b[0m \u001b[0;34m=\u001b[0m \u001b[0mindexer\u001b[0m\u001b[0;34m[\u001b[0m\u001b[0;34m~\u001b[0m\u001b[0mmask\u001b[0m\u001b[0;34m]\u001b[0m\u001b[0;34m\u001b[0m\u001b[0;34m\u001b[0m\u001b[0m\n\u001b[1;32m   5284\u001b[0m         \u001b[0;32mreturn\u001b[0m \u001b[0mself\u001b[0m\u001b[0;34m.\u001b[0m\u001b[0mdelete\u001b[0m\u001b[0;34m(\u001b[0m\u001b[0mindexer\u001b[0m\u001b[0;34m)\u001b[0m\u001b[0;34m\u001b[0m\u001b[0;34m\u001b[0m\u001b[0m\n",
      "\u001b[0;31mKeyError\u001b[0m: \"['Date' 'Adj Close'] not found in axis\""
     ]
    }
   ],
   "source": [
    "data_training = data_training.drop(['Date', 'Adj Close'], axis = 1)"
   ]
  },
  {
   "cell_type": "code",
   "execution_count": 5,
   "metadata": {},
   "outputs": [
    {
     "data": {
      "text/plain": [
       "array([[0.1164055 , 0.11928685, 0.11341195, 0.10728661, 0.29165417],\n",
       "       [0.11396119, 0.13952652, 0.12128596, 0.14255814, 0.29782022],\n",
       "       [0.14529123, 0.14963913, 0.13906413, 0.13583292, 0.31378529],\n",
       "       ...,\n",
       "       [0.99948241, 0.99932154, 0.9951277 , 0.98660717, 0.11513849],\n",
       "       [0.98080521, 0.98267648, 0.9729557 , 0.96387694, 0.11722161],\n",
       "       [0.95220706, 0.96102209, 0.96579939, 0.96514696, 0.1023731 ]])"
      ]
     },
     "execution_count": 5,
     "metadata": {},
     "output_type": "execute_result"
    }
   ],
   "source": [
    "scaler = MinMaxScaler()\n",
    "data_training = scaler.fit_transform(data_training)\n",
    "data_training"
   ]
  },
  {
   "cell_type": "code",
   "execution_count": 10,
   "metadata": {},
   "outputs": [],
   "source": [
    "X_train = []\n",
    "y_train = []\n",
    "\n",
    "for i in range(60, data_training.shape[0]):\n",
    "    X_train.append(data_training[i-60:i])\n",
    "    y_train.append(data_training[i, 0])\n",
    "    \n",
    "X_train, y_train = np.array(X_train), np.array(y_train)"
   ]
  },
  {
   "cell_type": "code",
   "execution_count": 11,
   "metadata": {},
   "outputs": [
    {
     "data": {
      "text/plain": [
       "(969, 60, 5)"
      ]
     },
     "execution_count": 11,
     "metadata": {},
     "output_type": "execute_result"
    }
   ],
   "source": [
    "X_train.shape"
   ]
  },
  {
   "cell_type": "code",
   "execution_count": 12,
   "metadata": {},
   "outputs": [],
   "source": [
    "from tensorflow.keras import Sequential\n",
    "from tensorflow.keras.layers import Dense, LSTM, Dropout"
   ]
  },
  {
   "cell_type": "code",
   "execution_count": 13,
   "metadata": {},
   "outputs": [],
   "source": [
    "regressor = Sequential()\n",
    "\n",
    "regressor.add(LSTM(units = 60, activation = 'relu', return_sequences = True, input_shape = (X_train.shape[1], 5)))\n",
    "regressor.add(Dropout(0.2))\n",
    "\n",
    "regressor.add(LSTM(units = 60, activation = 'relu', return_sequences = True))\n",
    "regressor.add(Dropout(0.2))\n",
    "\n",
    "regressor.add(LSTM(units = 80, activation = 'relu', return_sequences = True))\n",
    "regressor.add(Dropout(0.2))\n",
    "\n",
    "regressor.add(LSTM(units = 120, activation = 'relu'))\n",
    "regressor.add(Dropout(0.2))\n",
    "\n",
    "regressor.add(Dense(units = 1))"
   ]
  },
  {
   "cell_type": "code",
   "execution_count": 14,
   "metadata": {},
   "outputs": [
    {
     "name": "stdout",
     "output_type": "stream",
     "text": [
      "Model: \"sequential\"\n",
      "_________________________________________________________________\n",
      "Layer (type)                 Output Shape              Param #   \n",
      "=================================================================\n",
      "lstm (LSTM)                  (None, 60, 60)            15840     \n",
      "_________________________________________________________________\n",
      "dropout (Dropout)            (None, 60, 60)            0         \n",
      "_________________________________________________________________\n",
      "lstm_1 (LSTM)                (None, 60, 60)            29040     \n",
      "_________________________________________________________________\n",
      "dropout_1 (Dropout)          (None, 60, 60)            0         \n",
      "_________________________________________________________________\n",
      "lstm_2 (LSTM)                (None, 60, 80)            45120     \n",
      "_________________________________________________________________\n",
      "dropout_2 (Dropout)          (None, 60, 80)            0         \n",
      "_________________________________________________________________\n",
      "lstm_3 (LSTM)                (None, 120)               96480     \n",
      "_________________________________________________________________\n",
      "dropout_3 (Dropout)          (None, 120)               0         \n",
      "_________________________________________________________________\n",
      "dense (Dense)                (None, 1)                 121       \n",
      "=================================================================\n",
      "Total params: 186,601\n",
      "Trainable params: 186,601\n",
      "Non-trainable params: 0\n",
      "_________________________________________________________________\n"
     ]
    }
   ],
   "source": [
    "regressor.summary()\n"
   ]
  },
  {
   "cell_type": "code",
   "execution_count": 15,
   "metadata": {},
   "outputs": [
    {
     "name": "stdout",
     "output_type": "stream",
     "text": [
      "Epoch 1/50\n",
      "31/31 [==============================] - 4s 122ms/step - loss: 0.0492\n",
      "Epoch 2/50\n",
      "31/31 [==============================] - 4s 118ms/step - loss: 0.0083\n",
      "Epoch 3/50\n",
      "31/31 [==============================] - 4s 121ms/step - loss: 0.0057\n",
      "Epoch 4/50\n",
      "31/31 [==============================] - 4s 119ms/step - loss: 0.0055\n",
      "Epoch 5/50\n",
      "31/31 [==============================] - 4s 139ms/step - loss: 0.0059\n",
      "Epoch 6/50\n",
      "31/31 [==============================] - 4s 119ms/step - loss: 0.0052\n",
      "Epoch 7/50\n",
      "31/31 [==============================] - 4s 119ms/step - loss: 0.0045\n",
      "Epoch 8/50\n",
      "31/31 [==============================] - 4s 116ms/step - loss: 0.0042\n",
      "Epoch 9/50\n",
      "31/31 [==============================] - 4s 116ms/step - loss: 0.0043\n",
      "Epoch 10/50\n",
      "31/31 [==============================] - 4s 115ms/step - loss: 0.0044\n",
      "Epoch 11/50\n",
      "31/31 [==============================] - 4s 116ms/step - loss: 0.0050\n",
      "Epoch 12/50\n",
      "31/31 [==============================] - 4s 119ms/step - loss: 0.0046\n",
      "Epoch 13/50\n",
      "31/31 [==============================] - 4s 117ms/step - loss: 0.0045\n",
      "Epoch 14/50\n",
      "31/31 [==============================] - 4s 116ms/step - loss: 0.0040\n",
      "Epoch 15/50\n",
      "31/31 [==============================] - 4s 116ms/step - loss: 0.0037\n",
      "Epoch 16/50\n",
      "31/31 [==============================] - 4s 116ms/step - loss: 0.0049\n",
      "Epoch 17/50\n",
      "31/31 [==============================] - 4s 117ms/step - loss: 0.0041\n",
      "Epoch 18/50\n",
      "31/31 [==============================] - 4s 121ms/step - loss: 0.0041\n",
      "Epoch 19/50\n",
      "31/31 [==============================] - 4s 117ms/step - loss: 0.0037\n",
      "Epoch 20/50\n",
      "31/31 [==============================] - 4s 118ms/step - loss: 0.0034\n",
      "Epoch 21/50\n",
      "31/31 [==============================] - 4s 117ms/step - loss: 0.0034\n",
      "Epoch 22/50\n",
      "31/31 [==============================] - 4s 116ms/step - loss: 0.0037\n",
      "Epoch 23/50\n",
      "31/31 [==============================] - 4s 118ms/step - loss: 0.0041\n",
      "Epoch 24/50\n",
      "31/31 [==============================] - 4s 117ms/step - loss: 0.0038\n",
      "Epoch 25/50\n",
      "31/31 [==============================] - 4s 117ms/step - loss: 0.0033\n",
      "Epoch 26/50\n",
      "31/31 [==============================] - 4s 117ms/step - loss: 0.0033\n",
      "Epoch 27/50\n",
      "31/31 [==============================] - 4s 118ms/step - loss: 0.0037\n",
      "Epoch 28/50\n",
      "31/31 [==============================] - 4s 117ms/step - loss: 0.0042\n",
      "Epoch 29/50\n",
      "31/31 [==============================] - 4s 117ms/step - loss: 0.0029\n",
      "Epoch 30/50\n",
      "31/31 [==============================] - 4s 118ms/step - loss: 0.0028\n",
      "Epoch 31/50\n",
      "31/31 [==============================] - 4s 117ms/step - loss: 0.0032\n",
      "Epoch 32/50\n",
      "31/31 [==============================] - 4s 117ms/step - loss: 0.0032\n",
      "Epoch 33/50\n",
      "31/31 [==============================] - 4s 118ms/step - loss: 0.0030\n",
      "Epoch 34/50\n",
      "31/31 [==============================] - 4s 117ms/step - loss: 0.0028\n",
      "Epoch 35/50\n",
      "31/31 [==============================] - 4s 117ms/step - loss: 0.0027\n",
      "Epoch 36/50\n",
      "31/31 [==============================] - 4s 117ms/step - loss: 0.0026\n",
      "Epoch 37/50\n",
      "31/31 [==============================] - 4s 117ms/step - loss: 0.0028\n",
      "Epoch 38/50\n",
      "31/31 [==============================] - 4s 117ms/step - loss: 0.0026\n",
      "Epoch 39/50\n",
      "31/31 [==============================] - 4s 118ms/step - loss: 0.0030\n",
      "Epoch 40/50\n",
      "31/31 [==============================] - 4s 117ms/step - loss: 0.0025\n",
      "Epoch 41/50\n",
      "31/31 [==============================] - 4s 118ms/step - loss: 0.0025\n",
      "Epoch 42/50\n",
      "31/31 [==============================] - 4s 118ms/step - loss: 0.0027\n",
      "Epoch 43/50\n",
      "31/31 [==============================] - 4s 117ms/step - loss: 0.0025\n",
      "Epoch 44/50\n",
      "31/31 [==============================] - 4s 121ms/step - loss: 0.0026\n",
      "Epoch 45/50\n",
      "31/31 [==============================] - 4s 119ms/step - loss: 0.0024\n",
      "Epoch 46/50\n",
      "31/31 [==============================] - 4s 118ms/step - loss: 0.0024\n",
      "Epoch 47/50\n",
      "31/31 [==============================] - 4s 142ms/step - loss: 0.0025\n",
      "Epoch 48/50\n",
      "31/31 [==============================] - 4s 124ms/step - loss: 0.0023\n",
      "Epoch 49/50\n",
      "31/31 [==============================] - 4s 120ms/step - loss: 0.0025\n",
      "Epoch 50/50\n",
      "31/31 [==============================] - 4s 120ms/step - loss: 0.0025\n"
     ]
    },
    {
     "data": {
      "text/plain": [
       "<tensorflow.python.keras.callbacks.History at 0x7f37b42aaaf0>"
      ]
     },
     "execution_count": 15,
     "metadata": {},
     "output_type": "execute_result"
    }
   ],
   "source": [
    "regressor.compile(optimizer='adam', loss = 'mean_squared_error')\n",
    "regressor.fit(X_train, y_train, epochs=50, batch_size=32)"
   ]
  },
  {
   "cell_type": "code",
   "execution_count": 16,
   "metadata": {},
   "outputs": [
    {
     "data": {
      "text/html": [
       "<div>\n",
       "<style scoped>\n",
       "    .dataframe tbody tr th:only-of-type {\n",
       "        vertical-align: middle;\n",
       "    }\n",
       "\n",
       "    .dataframe tbody tr th {\n",
       "        vertical-align: top;\n",
       "    }\n",
       "\n",
       "    .dataframe thead th {\n",
       "        text-align: right;\n",
       "    }\n",
       "</style>\n",
       "<table border=\"1\" class=\"dataframe\">\n",
       "  <thead>\n",
       "    <tr style=\"text-align: right;\">\n",
       "      <th></th>\n",
       "      <th>Date</th>\n",
       "      <th>Open</th>\n",
       "      <th>High</th>\n",
       "      <th>Low</th>\n",
       "      <th>Close</th>\n",
       "      <th>Adj Close</th>\n",
       "      <th>Volume</th>\n",
       "    </tr>\n",
       "  </thead>\n",
       "  <tbody>\n",
       "    <tr>\n",
       "      <th>1029</th>\n",
       "      <td>2020-01-02</td>\n",
       "      <td>1341.550049</td>\n",
       "      <td>1368.140015</td>\n",
       "      <td>1341.550049</td>\n",
       "      <td>1367.369995</td>\n",
       "      <td>1367.369995</td>\n",
       "      <td>1406600</td>\n",
       "    </tr>\n",
       "    <tr>\n",
       "      <th>1030</th>\n",
       "      <td>2020-01-03</td>\n",
       "      <td>1347.859985</td>\n",
       "      <td>1372.500000</td>\n",
       "      <td>1345.543945</td>\n",
       "      <td>1360.660034</td>\n",
       "      <td>1360.660034</td>\n",
       "      <td>1186400</td>\n",
       "    </tr>\n",
       "    <tr>\n",
       "      <th>1031</th>\n",
       "      <td>2020-01-06</td>\n",
       "      <td>1350.000000</td>\n",
       "      <td>1396.500000</td>\n",
       "      <td>1350.000000</td>\n",
       "      <td>1394.209961</td>\n",
       "      <td>1394.209961</td>\n",
       "      <td>1732300</td>\n",
       "    </tr>\n",
       "    <tr>\n",
       "      <th>1032</th>\n",
       "      <td>2020-01-07</td>\n",
       "      <td>1397.939941</td>\n",
       "      <td>1402.989990</td>\n",
       "      <td>1390.380005</td>\n",
       "      <td>1393.339966</td>\n",
       "      <td>1393.339966</td>\n",
       "      <td>1502700</td>\n",
       "    </tr>\n",
       "    <tr>\n",
       "      <th>1033</th>\n",
       "      <td>2020-01-08</td>\n",
       "      <td>1392.079956</td>\n",
       "      <td>1411.579956</td>\n",
       "      <td>1390.839966</td>\n",
       "      <td>1404.319946</td>\n",
       "      <td>1404.319946</td>\n",
       "      <td>1528000</td>\n",
       "    </tr>\n",
       "  </tbody>\n",
       "</table>\n",
       "</div>"
      ],
      "text/plain": [
       "            Date         Open         High          Low        Close  \\\n",
       "1029  2020-01-02  1341.550049  1368.140015  1341.550049  1367.369995   \n",
       "1030  2020-01-03  1347.859985  1372.500000  1345.543945  1360.660034   \n",
       "1031  2020-01-06  1350.000000  1396.500000  1350.000000  1394.209961   \n",
       "1032  2020-01-07  1397.939941  1402.989990  1390.380005  1393.339966   \n",
       "1033  2020-01-08  1392.079956  1411.579956  1390.839966  1404.319946   \n",
       "\n",
       "        Adj Close   Volume  \n",
       "1029  1367.369995  1406600  \n",
       "1030  1360.660034  1186400  \n",
       "1031  1394.209961  1732300  \n",
       "1032  1393.339966  1502700  \n",
       "1033  1404.319946  1528000  "
      ]
     },
     "execution_count": 16,
     "metadata": {},
     "output_type": "execute_result"
    }
   ],
   "source": [
    "data_test.head()"
   ]
  },
  {
   "cell_type": "code",
   "execution_count": 21,
   "metadata": {},
   "outputs": [],
   "source": [
    "past_60_days = data_test.tail(60)"
   ]
  },
  {
   "cell_type": "code",
   "execution_count": 22,
   "metadata": {},
   "outputs": [
    {
     "data": {
      "text/html": [
       "<div>\n",
       "<style scoped>\n",
       "    .dataframe tbody tr th:only-of-type {\n",
       "        vertical-align: middle;\n",
       "    }\n",
       "\n",
       "    .dataframe tbody tr th {\n",
       "        vertical-align: top;\n",
       "    }\n",
       "\n",
       "    .dataframe thead th {\n",
       "        text-align: right;\n",
       "    }\n",
       "</style>\n",
       "<table border=\"1\" class=\"dataframe\">\n",
       "  <thead>\n",
       "    <tr style=\"text-align: right;\">\n",
       "      <th></th>\n",
       "      <th>Open</th>\n",
       "      <th>High</th>\n",
       "      <th>Low</th>\n",
       "      <th>Close</th>\n",
       "      <th>Volume</th>\n",
       "    </tr>\n",
       "  </thead>\n",
       "  <tbody>\n",
       "    <tr>\n",
       "      <th>0</th>\n",
       "      <td>1709.713989</td>\n",
       "      <td>1709.713989</td>\n",
       "      <td>1615.060059</td>\n",
       "      <td>1641.839966</td>\n",
       "      <td>3107800</td>\n",
       "    </tr>\n",
       "    <tr>\n",
       "      <th>1</th>\n",
       "      <td>1624.260010</td>\n",
       "      <td>1645.109985</td>\n",
       "      <td>1547.613037</td>\n",
       "      <td>1591.040039</td>\n",
       "      <td>2608600</td>\n",
       "    </tr>\n",
       "    <tr>\n",
       "      <th>2</th>\n",
       "      <td>1533.510010</td>\n",
       "      <td>1563.864990</td>\n",
       "      <td>1528.010010</td>\n",
       "      <td>1532.390015</td>\n",
       "      <td>2610900</td>\n",
       "    </tr>\n",
       "    <tr>\n",
       "      <th>3</th>\n",
       "      <td>1557.530029</td>\n",
       "      <td>1569.000000</td>\n",
       "      <td>1536.051025</td>\n",
       "      <td>1556.959961</td>\n",
       "      <td>1774700</td>\n",
       "    </tr>\n",
       "    <tr>\n",
       "      <th>4</th>\n",
       "      <td>1560.640015</td>\n",
       "      <td>1584.081055</td>\n",
       "      <td>1525.805054</td>\n",
       "      <td>1532.020020</td>\n",
       "      <td>1618600</td>\n",
       "    </tr>\n",
       "  </tbody>\n",
       "</table>\n",
       "</div>"
      ],
      "text/plain": [
       "          Open         High          Low        Close   Volume\n",
       "0  1709.713989  1709.713989  1615.060059  1641.839966  3107800\n",
       "1  1624.260010  1645.109985  1547.613037  1591.040039  2608600\n",
       "2  1533.510010  1563.864990  1528.010010  1532.390015  2610900\n",
       "3  1557.530029  1569.000000  1536.051025  1556.959961  1774700\n",
       "4  1560.640015  1584.081055  1525.805054  1532.020020  1618600"
      ]
     },
     "execution_count": 22,
     "metadata": {},
     "output_type": "execute_result"
    }
   ],
   "source": [
    "df = past_60_days.append(data_test, ignore_index = True)\n",
    "df = df.drop(['Date', 'Adj Close'], axis = 1)\n",
    "df.head()"
   ]
  },
  {
   "cell_type": "code",
   "execution_count": 23,
   "metadata": {},
   "outputs": [
    {
     "data": {
      "text/plain": [
       "array([[1.49800721, 1.4976382 , 1.38049042, 1.40505969, 0.460004  ],\n",
       "       [1.37514024, 1.40437416, 1.28268584, 1.3317458 , 0.37681232],\n",
       "       [1.24465857, 1.28708674, 1.25425959, 1.24710274, 0.37719561],\n",
       "       ...,\n",
       "       [1.52789364, 1.58697845, 1.54381443, 1.58840245, 0.20506283],\n",
       "       [1.58884262, 1.5969973 , 1.58564981, 1.59208265, 0.1163717 ],\n",
       "       [1.58913011, 1.63375197, 1.60870618, 1.62348628, 0.08955771]])"
      ]
     },
     "execution_count": 23,
     "metadata": {},
     "output_type": "execute_result"
    }
   ],
   "source": [
    "inputs = scaler.transform(df)\n",
    "inputs"
   ]
  },
  {
   "cell_type": "code",
   "execution_count": 25,
   "metadata": {},
   "outputs": [
    {
     "data": {
      "text/plain": [
       "((230, 60, 5), (230,))"
      ]
     },
     "execution_count": 25,
     "metadata": {},
     "output_type": "execute_result"
    }
   ],
   "source": [
    "X_test = []\n",
    "y_test = []\n",
    "\n",
    "for i in range(60, inputs.shape[0]):\n",
    "    X_test.append(inputs[i-60:i])\n",
    "    y_test.append(inputs[i, 0])\n",
    "\n",
    "X_test, y_test = np.array(X_test), np.array(y_test)\n",
    "X_test.shape, y_test.shape"
   ]
  },
  {
   "cell_type": "code",
   "execution_count": 26,
   "metadata": {},
   "outputs": [],
   "source": [
    "y_pred = regressor.predict(X_test)"
   ]
  },
  {
   "cell_type": "code",
   "execution_count": 27,
   "metadata": {},
   "outputs": [
    {
     "data": {
      "text/plain": [
       "array([1.43781452e-03, 1.44362636e-03, 1.45009488e-03, 1.44318880e-03,\n",
       "       1.66650002e-07])"
      ]
     },
     "execution_count": 27,
     "metadata": {},
     "output_type": "execute_result"
    }
   ],
   "source": [
    "scaler.scale_"
   ]
  },
  {
   "cell_type": "code",
   "execution_count": 28,
   "metadata": {},
   "outputs": [
    {
     "data": {
      "text/plain": [
       "1221.5901990069017"
      ]
     },
     "execution_count": 28,
     "metadata": {},
     "output_type": "execute_result"
    }
   ],
   "source": [
    "scale = 1/8.18605127e-04\n",
    "scale"
   ]
  },
  {
   "cell_type": "code",
   "execution_count": 29,
   "metadata": {},
   "outputs": [],
   "source": [
    "y_pred = y_pred*scale\n",
    "y_test = y_test*scale"
   ]
  },
  {
   "cell_type": "code",
   "execution_count": 30,
   "metadata": {},
   "outputs": [
    {
     "data": {
      "image/png": "[encoded data removed]",
      "text/plain": [
       "<Figure size 1008x360 with 1 Axes>"
      ]
     },
     "metadata": {
      "needs_background": "light"
     },
     "output_type": "display_data"
    }
   ],
   "source": [
    "# Visualising the results\n",
    "plt.figure(figsize=(14,5))\n",
    "plt.plot(y_test, color = 'red', label = 'Real Google Stock Price')\n",
    "plt.plot(y_pred, color = 'blue', label = 'Predicted Google Stock Price')\n",
    "plt.title('Google Stock Price Prediction')\n",
    "plt.xlabel('Time')\n",
    "plt.ylabel('Google Stock Price')\n",
    "plt.legend()\n",
    "plt.show()"
   ]
  },
  {
   "cell_type": "code",
   "execution_count": null,
   "metadata": {},
   "outputs": [],
   "source": []
  },
  {
   "cell_type": "code",
   "execution_count": null,
   "metadata": {},
   "outputs": [],
   "source": []
  }
 ],
 "metadata": {
  "kernelspec": {
   "display_name": "Python 3",
   "language": "python",
   "name": "python3"
  },
  "language_info": {
   "codemirror_mode": {
    "name": "ipython",
    "version": 3
   },
   "file_extension": ".py",
   "mimetype": "text/x-python",
   "name": "python",
   "nbconvert_exporter": "python",
   "pygments_lexer": "ipython3",
   "version": "3.8.5"
  }
 },
 "nbformat": 4,
 "nbformat_minor": 4
}
