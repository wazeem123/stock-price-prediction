{
 "cells": [
  {
   "cell_type": "code",
   "execution_count": 1,
   "metadata": {},
   "outputs": [],
   "source": [
    "import numpy as np\n",
    "import matplotlib.pyplot as plt\n",
    "import pandas as pd\n",
    "from sklearn.preprocessing import MinMaxScaler"
   ]
  },
  {
   "cell_type": "code",
   "execution_count": 2,
   "metadata": {
    "scrolled": true
   },
   "outputs": [
    {
     "data": {
      "text/html": [
       "<div>\n",
       "<style scoped>\n",
       "    .dataframe tbody tr th:only-of-type {\n",
       "        vertical-align: middle;\n",
       "    }\n",
       "\n",
       "    .dataframe tbody tr th {\n",
       "        vertical-align: top;\n",
       "    }\n",
       "\n",
       "    .dataframe thead th {\n",
       "        text-align: right;\n",
       "    }\n",
       "</style>\n",
       "<table border=\"1\" class=\"dataframe\">\n",
       "  <thead>\n",
       "    <tr style=\"text-align: right;\">\n",
       "      <th></th>\n",
       "      <th>Date</th>\n",
       "      <th>Open</th>\n",
       "      <th>High</th>\n",
       "      <th>Low</th>\n",
       "      <th>Close</th>\n",
       "      <th>Adj Close</th>\n",
       "      <th>Volume</th>\n",
       "    </tr>\n",
       "  </thead>\n",
       "  <tbody>\n",
       "    <tr>\n",
       "      <th>3803</th>\n",
       "      <td>2019-09-30</td>\n",
       "      <td>1220.969971</td>\n",
       "      <td>1226.000000</td>\n",
       "      <td>1212.300049</td>\n",
       "      <td>1219.000000</td>\n",
       "      <td>1219.000000</td>\n",
       "      <td>1404100</td>\n",
       "    </tr>\n",
       "    <tr>\n",
       "      <th>3804</th>\n",
       "      <td>2019-10-01</td>\n",
       "      <td>1219.000000</td>\n",
       "      <td>1231.229980</td>\n",
       "      <td>1203.579956</td>\n",
       "      <td>1205.099976</td>\n",
       "      <td>1205.099976</td>\n",
       "      <td>1273500</td>\n",
       "    </tr>\n",
       "    <tr>\n",
       "      <th>3805</th>\n",
       "      <td>2019-10-02</td>\n",
       "      <td>1196.979980</td>\n",
       "      <td>1196.979980</td>\n",
       "      <td>1171.290039</td>\n",
       "      <td>1176.630005</td>\n",
       "      <td>1176.630005</td>\n",
       "      <td>1615100</td>\n",
       "    </tr>\n",
       "    <tr>\n",
       "      <th>3806</th>\n",
       "      <td>2019-10-03</td>\n",
       "      <td>1180.000000</td>\n",
       "      <td>1189.060059</td>\n",
       "      <td>1162.430054</td>\n",
       "      <td>1187.829956</td>\n",
       "      <td>1187.829956</td>\n",
       "      <td>1621200</td>\n",
       "    </tr>\n",
       "    <tr>\n",
       "      <th>3807</th>\n",
       "      <td>2019-10-04</td>\n",
       "      <td>1191.890015</td>\n",
       "      <td>1211.439941</td>\n",
       "      <td>1189.170044</td>\n",
       "      <td>1209.000000</td>\n",
       "      <td>1209.000000</td>\n",
       "      <td>1162400</td>\n",
       "    </tr>\n",
       "  </tbody>\n",
       "</table>\n",
       "</div>"
      ],
      "text/plain": [
       "            Date         Open         High          Low        Close  \\\n",
       "3803  2019-09-30  1220.969971  1226.000000  1212.300049  1219.000000   \n",
       "3804  2019-10-01  1219.000000  1231.229980  1203.579956  1205.099976   \n",
       "3805  2019-10-02  1196.979980  1196.979980  1171.290039  1176.630005   \n",
       "3806  2019-10-03  1180.000000  1189.060059  1162.430054  1187.829956   \n",
       "3807  2019-10-04  1191.890015  1211.439941  1189.170044  1209.000000   \n",
       "\n",
       "        Adj Close   Volume  \n",
       "3803  1219.000000  1404100  \n",
       "3804  1205.099976  1273500  \n",
       "3805  1176.630005  1615100  \n",
       "3806  1187.829956  1621200  \n",
       "3807  1209.000000  1162400  "
      ]
     },
     "execution_count": 2,
     "metadata": {},
     "output_type": "execute_result"
    }
   ],
   "source": [
    "data = pd.read_csv('GOOG.csv', date_parser = True)\n",
    "data.tail()"
   ]
  },
  {
   "cell_type": "code",
   "execution_count": 24,
   "metadata": {},
   "outputs": [],
   "source": [
    "data_training = data[data['Date']<'2019-01-01'].copy()\n",
    "data_test = data[data['Date']>='2019-01-01'].copy()"
   ]
  },
  {
   "cell_type": "code",
   "execution_count": 25,
   "metadata": {
    "scrolled": false
   },
   "outputs": [],
   "source": [
    "data_training = data_training.drop(['Date', 'Adj Close'], axis = 1)"
   ]
  },
  {
   "cell_type": "code",
   "execution_count": 26,
   "metadata": {},
   "outputs": [
    {
     "data": {
      "text/plain": [
       "array([[7.42148227e-04, 2.98909923e-03, 6.47716504e-04, 3.39307537e-03,\n",
       "        2.77885613e-01],\n",
       "       [4.71386886e-03, 4.78092896e-03, 4.19769536e-03, 3.83867225e-03,\n",
       "        2.22150736e-01],\n",
       "       [4.91367646e-03, 4.01532941e-03, 1.92238659e-03, 1.98678849e-03,\n",
       "        1.85522018e-01],\n",
       "       ...,\n",
       "       [7.92197108e-01, 8.11970141e-01, 7.89936884e-01, 8.15799920e-01,\n",
       "        2.54672037e-02],\n",
       "       [8.18777193e-01, 8.21510648e-01, 8.20026849e-01, 8.10219301e-01,\n",
       "        1.70463908e-02],\n",
       "       [8.19874096e-01, 8.19172449e-01, 8.12100139e-01, 8.09012935e-01,\n",
       "        1.79975186e-02]])"
      ]
     },
     "execution_count": 26,
     "metadata": {},
     "output_type": "execute_result"
    }
   ],
   "source": [
    "scaler = MinMaxScaler()\n",
    "data_training = scaler.fit_transform(data_training)\n",
    "data_training"
   ]
  },
  {
   "cell_type": "code",
   "execution_count": 27,
   "metadata": {},
   "outputs": [],
   "source": [
    "X_train = []\n",
    "y_train = []\n",
    "\n",
    "for i in range(60, data_training.shape[0]):\n",
    "    X_train.append(data_training[i-60:i])\n",
    "    y_train.append(data_training[i, 0])\n",
    "    \n",
    "X_train, y_train = np.array(X_train), np.array(y_train)"
   ]
  },
  {
   "cell_type": "code",
   "execution_count": 28,
   "metadata": {},
   "outputs": [
    {
     "data": {
      "text/plain": [
       "(3556, 60, 5)"
      ]
     },
     "execution_count": 28,
     "metadata": {},
     "output_type": "execute_result"
    }
   ],
   "source": [
    "X_train.shape"
   ]
  },
  {
   "cell_type": "code",
   "execution_count": 29,
   "metadata": {},
   "outputs": [],
   "source": [
    "from tensorflow.keras import Sequential\n",
    "from tensorflow.keras.layers import Dense, LSTM, Dropout"
   ]
  },
  {
   "cell_type": "code",
   "execution_count": 30,
   "metadata": {},
   "outputs": [],
   "source": [
    "regressor = Sequential()\n",
    "\n",
    "regressor.add(LSTM(units = 60, activation = 'relu', return_sequences = True, input_shape = (X_train.shape[1], 5)))\n",
    "regressor.add(Dropout(0.2))\n",
    "\n",
    "regressor.add(LSTM(units = 60, activation = 'relu', return_sequences = True))\n",
    "regressor.add(Dropout(0.2))\n",
    "\n",
    "regressor.add(LSTM(units = 80, activation = 'relu', return_sequences = True))\n",
    "regressor.add(Dropout(0.2))\n",
    "\n",
    "regressor.add(LSTM(units = 120, activation = 'relu'))\n",
    "regressor.add(Dropout(0.2))\n",
    "\n",
    "regressor.add(Dense(units = 1))"
   ]
  },
  {
   "cell_type": "code",
   "execution_count": 31,
   "metadata": {},
   "outputs": [
    {
     "name": "stdout",
     "output_type": "stream",
     "text": [
      "Model: \"sequential_1\"\n",
      "_________________________________________________________________\n",
      "Layer (type)                 Output Shape              Param #   \n",
      "=================================================================\n",
      "lstm_4 (LSTM)                (None, 60, 60)            15840     \n",
      "_________________________________________________________________\n",
      "dropout_4 (Dropout)          (None, 60, 60)            0         \n",
      "_________________________________________________________________\n",
      "lstm_5 (LSTM)                (None, 60, 60)            29040     \n",
      "_________________________________________________________________\n",
      "dropout_5 (Dropout)          (None, 60, 60)            0         \n",
      "_________________________________________________________________\n",
      "lstm_6 (LSTM)                (None, 60, 80)            45120     \n",
      "_________________________________________________________________\n",
      "dropout_6 (Dropout)          (None, 60, 80)            0         \n",
      "_________________________________________________________________\n",
      "lstm_7 (LSTM)                (None, 120)               96480     \n",
      "_________________________________________________________________\n",
      "dropout_7 (Dropout)          (None, 120)               0         \n",
      "_________________________________________________________________\n",
      "dense_1 (Dense)              (None, 1)                 121       \n",
      "=================================================================\n",
      "Total params: 186,601\n",
      "Trainable params: 186,601\n",
      "Non-trainable params: 0\n",
      "_________________________________________________________________\n"
     ]
    }
   ],
   "source": [
    "regressor.summary()\n"
   ]
  },
  {
   "cell_type": "code",
   "execution_count": 32,
   "metadata": {
    "scrolled": true
   },
   "outputs": [
    {
     "name": "stdout",
     "output_type": "stream",
     "text": [
      "Epoch 1/50\n",
      "112/112 [==============================] - 20s 179ms/step - loss: 0.0138\n",
      "Epoch 2/50\n",
      "112/112 [==============================] - 13s 119ms/step - loss: 0.0022\n",
      "Epoch 3/50\n",
      "112/112 [==============================] - 14s 124ms/step - loss: 0.0022\n",
      "Epoch 4/50\n",
      "112/112 [==============================] - 13s 113ms/step - loss: 0.0017\n",
      "Epoch 5/50\n",
      "112/112 [==============================] - 13s 118ms/step - loss: 0.0015\n",
      "Epoch 6/50\n",
      "112/112 [==============================] - 22s 200ms/step - loss: 0.0015\n",
      "Epoch 7/50\n",
      "112/112 [==============================] - 19s 165ms/step - loss: 0.0014\n",
      "Epoch 8/50\n",
      "112/112 [==============================] - 15s 133ms/step - loss: 0.0014\n",
      "Epoch 9/50\n",
      "112/112 [==============================] - 15s 133ms/step - loss: 0.0013\n",
      "Epoch 10/50\n",
      "112/112 [==============================] - 14s 123ms/step - loss: 0.0012\n",
      "Epoch 11/50\n",
      "112/112 [==============================] - 16s 142ms/step - loss: 0.0012\n",
      "Epoch 12/50\n",
      "112/112 [==============================] - 14s 121ms/step - loss: 0.0012\n",
      "Epoch 13/50\n",
      "112/112 [==============================] - 13s 119ms/step - loss: 0.0011\n",
      "Epoch 14/50\n",
      "112/112 [==============================] - 18s 162ms/step - loss: 0.0012\n",
      "Epoch 15/50\n",
      "112/112 [==============================] - 14s 126ms/step - loss: 0.0011\n",
      "Epoch 16/50\n",
      "112/112 [==============================] - 14s 123ms/step - loss: 0.0011\n",
      "Epoch 17/50\n",
      "112/112 [==============================] - 14s 129ms/step - loss: 0.0010\n",
      "Epoch 18/50\n",
      "112/112 [==============================] - 14s 122ms/step - loss: 9.0038e-04\n",
      "Epoch 19/50\n",
      "112/112 [==============================] - 15s 130ms/step - loss: 9.1445e-04\n",
      "Epoch 20/50\n",
      "112/112 [==============================] - 15s 138ms/step - loss: 9.2390e-04\n",
      "Epoch 21/50\n",
      "112/112 [==============================] - 18s 161ms/step - loss: 9.8604e-04\n",
      "Epoch 22/50\n",
      "112/112 [==============================] - 19s 167ms/step - loss: 9.3560e-04\n",
      "Epoch 23/50\n",
      "112/112 [==============================] - 13s 117ms/step - loss: 8.9417e-04\n",
      "Epoch 24/50\n",
      "112/112 [==============================] - 13s 113ms/step - loss: 8.5984e-04\n",
      "Epoch 25/50\n",
      "112/112 [==============================] - 13s 112ms/step - loss: 8.2035e-04\n",
      "Epoch 26/50\n",
      "112/112 [==============================] - 12s 111ms/step - loss: 7.5912e-04\n",
      "Epoch 27/50\n",
      "112/112 [==============================] - 12s 111ms/step - loss: 7.9530e-04\n",
      "Epoch 28/50\n",
      "112/112 [==============================] - 12s 111ms/step - loss: 7.8780e-04\n",
      "Epoch 29/50\n",
      "112/112 [==============================] - 13s 117ms/step - loss: 8.5109e-04\n",
      "Epoch 30/50\n",
      "112/112 [==============================] - 15s 134ms/step - loss: 7.3406e-04\n",
      "Epoch 31/50\n",
      "112/112 [==============================] - 15s 136ms/step - loss: 7.0326e-04\n",
      "Epoch 32/50\n",
      "112/112 [==============================] - 13s 115ms/step - loss: 7.5534e-04\n",
      "Epoch 33/50\n",
      "112/112 [==============================] - 13s 115ms/step - loss: 6.5186e-04\n",
      "Epoch 34/50\n",
      "112/112 [==============================] - 12s 111ms/step - loss: 7.8999e-04\n",
      "Epoch 35/50\n",
      "112/112 [==============================] - 13s 112ms/step - loss: 6.9437e-04\n",
      "Epoch 36/50\n",
      "112/112 [==============================] - 12s 111ms/step - loss: 6.7072e-04\n",
      "Epoch 37/50\n",
      "112/112 [==============================] - 12s 111ms/step - loss: 7.4317e-04\n",
      "Epoch 38/50\n",
      "112/112 [==============================] - 16s 140ms/step - loss: 6.4475e-04\n",
      "Epoch 39/50\n",
      "112/112 [==============================] - 14s 128ms/step - loss: 6.7608e-04\n",
      "Epoch 40/50\n",
      "112/112 [==============================] - 14s 121ms/step - loss: 6.5209e-04\n",
      "Epoch 41/50\n",
      "112/112 [==============================] - 12s 111ms/step - loss: 6.6082e-04\n",
      "Epoch 42/50\n",
      "112/112 [==============================] - 12s 111ms/step - loss: 7.1709e-04\n",
      "Epoch 43/50\n",
      "112/112 [==============================] - 13s 118ms/step - loss: 6.4588e-04\n",
      "Epoch 44/50\n",
      "112/112 [==============================] - 13s 118ms/step - loss: 7.2102e-04\n",
      "Epoch 45/50\n",
      "112/112 [==============================] - 12s 111ms/step - loss: 6.9936e-04\n",
      "Epoch 46/50\n",
      "112/112 [==============================] - 13s 115ms/step - loss: 6.0791e-04\n",
      "Epoch 47/50\n",
      "112/112 [==============================] - 16s 142ms/step - loss: 6.3535e-04\n",
      "Epoch 48/50\n",
      "112/112 [==============================] - 13s 115ms/step - loss: 6.6304e-04\n",
      "Epoch 49/50\n",
      "112/112 [==============================] - 13s 116ms/step - loss: 8.9054e-04\n",
      "Epoch 50/50\n",
      "112/112 [==============================] - 15s 130ms/step - loss: 6.0119e-04\n"
     ]
    },
    {
     "data": {
      "text/plain": [
       "<tensorflow.python.keras.callbacks.History at 0x7fc153465e80>"
      ]
     },
     "execution_count": 32,
     "metadata": {},
     "output_type": "execute_result"
    }
   ],
   "source": [
    "regressor.compile(optimizer='adam', loss = 'mean_squared_error')\n",
    "regressor.fit(X_train, y_train, epochs=50, batch_size=32)"
   ]
  },
  {
   "cell_type": "code",
   "execution_count": 33,
   "metadata": {},
   "outputs": [
    {
     "data": {
      "text/html": [
       "<div>\n",
       "<style scoped>\n",
       "    .dataframe tbody tr th:only-of-type {\n",
       "        vertical-align: middle;\n",
       "    }\n",
       "\n",
       "    .dataframe tbody tr th {\n",
       "        vertical-align: top;\n",
       "    }\n",
       "\n",
       "    .dataframe thead th {\n",
       "        text-align: right;\n",
       "    }\n",
       "</style>\n",
       "<table border=\"1\" class=\"dataframe\">\n",
       "  <thead>\n",
       "    <tr style=\"text-align: right;\">\n",
       "      <th></th>\n",
       "      <th>Date</th>\n",
       "      <th>Open</th>\n",
       "      <th>High</th>\n",
       "      <th>Low</th>\n",
       "      <th>Close</th>\n",
       "      <th>Adj Close</th>\n",
       "      <th>Volume</th>\n",
       "    </tr>\n",
       "  </thead>\n",
       "  <tbody>\n",
       "    <tr>\n",
       "      <th>3616</th>\n",
       "      <td>2019-01-02</td>\n",
       "      <td>1016.570007</td>\n",
       "      <td>1052.319946</td>\n",
       "      <td>1015.710022</td>\n",
       "      <td>1045.849976</td>\n",
       "      <td>1045.849976</td>\n",
       "      <td>1532600</td>\n",
       "    </tr>\n",
       "    <tr>\n",
       "      <th>3617</th>\n",
       "      <td>2019-01-03</td>\n",
       "      <td>1041.000000</td>\n",
       "      <td>1056.979980</td>\n",
       "      <td>1014.070007</td>\n",
       "      <td>1016.059998</td>\n",
       "      <td>1016.059998</td>\n",
       "      <td>1841100</td>\n",
       "    </tr>\n",
       "    <tr>\n",
       "      <th>3618</th>\n",
       "      <td>2019-01-04</td>\n",
       "      <td>1032.589966</td>\n",
       "      <td>1070.839966</td>\n",
       "      <td>1027.417969</td>\n",
       "      <td>1070.709961</td>\n",
       "      <td>1070.709961</td>\n",
       "      <td>2093900</td>\n",
       "    </tr>\n",
       "    <tr>\n",
       "      <th>3619</th>\n",
       "      <td>2019-01-07</td>\n",
       "      <td>1071.500000</td>\n",
       "      <td>1074.000000</td>\n",
       "      <td>1054.760010</td>\n",
       "      <td>1068.390015</td>\n",
       "      <td>1068.390015</td>\n",
       "      <td>1981900</td>\n",
       "    </tr>\n",
       "    <tr>\n",
       "      <th>3620</th>\n",
       "      <td>2019-01-08</td>\n",
       "      <td>1076.109985</td>\n",
       "      <td>1084.560059</td>\n",
       "      <td>1060.530029</td>\n",
       "      <td>1076.280029</td>\n",
       "      <td>1076.280029</td>\n",
       "      <td>1764900</td>\n",
       "    </tr>\n",
       "  </tbody>\n",
       "</table>\n",
       "</div>"
      ],
      "text/plain": [
       "            Date         Open         High          Low        Close  \\\n",
       "3616  2019-01-02  1016.570007  1052.319946  1015.710022  1045.849976   \n",
       "3617  2019-01-03  1041.000000  1056.979980  1014.070007  1016.059998   \n",
       "3618  2019-01-04  1032.589966  1070.839966  1027.417969  1070.709961   \n",
       "3619  2019-01-07  1071.500000  1074.000000  1054.760010  1068.390015   \n",
       "3620  2019-01-08  1076.109985  1084.560059  1060.530029  1076.280029   \n",
       "\n",
       "        Adj Close   Volume  \n",
       "3616  1045.849976  1532600  \n",
       "3617  1016.059998  1841100  \n",
       "3618  1070.709961  2093900  \n",
       "3619  1068.390015  1981900  \n",
       "3620  1076.280029  1764900  "
      ]
     },
     "execution_count": 33,
     "metadata": {},
     "output_type": "execute_result"
    }
   ],
   "source": [
    "data_test.head()"
   ]
  },
  {
   "cell_type": "code",
   "execution_count": 34,
   "metadata": {},
   "outputs": [],
   "source": [
    "past_60_days = data_test.tail(60)"
   ]
  },
  {
   "cell_type": "code",
   "execution_count": 35,
   "metadata": {},
   "outputs": [
    {
     "data": {
      "text/html": [
       "<div>\n",
       "<style scoped>\n",
       "    .dataframe tbody tr th:only-of-type {\n",
       "        vertical-align: middle;\n",
       "    }\n",
       "\n",
       "    .dataframe tbody tr th {\n",
       "        vertical-align: top;\n",
       "    }\n",
       "\n",
       "    .dataframe thead th {\n",
       "        text-align: right;\n",
       "    }\n",
       "</style>\n",
       "<table border=\"1\" class=\"dataframe\">\n",
       "  <thead>\n",
       "    <tr style=\"text-align: right;\">\n",
       "      <th></th>\n",
       "      <th>Open</th>\n",
       "      <th>High</th>\n",
       "      <th>Low</th>\n",
       "      <th>Close</th>\n",
       "      <th>Volume</th>\n",
       "    </tr>\n",
       "  </thead>\n",
       "  <tbody>\n",
       "    <tr>\n",
       "      <th>0</th>\n",
       "      <td>1143.989990</td>\n",
       "      <td>1147.339966</td>\n",
       "      <td>1138.780029</td>\n",
       "      <td>1144.900024</td>\n",
       "      <td>864000</td>\n",
       "    </tr>\n",
       "    <tr>\n",
       "      <th>1</th>\n",
       "      <td>1146.859985</td>\n",
       "      <td>1150.819946</td>\n",
       "      <td>1139.400024</td>\n",
       "      <td>1150.339966</td>\n",
       "      <td>903800</td>\n",
       "    </tr>\n",
       "    <tr>\n",
       "      <th>2</th>\n",
       "      <td>1146.000000</td>\n",
       "      <td>1158.579956</td>\n",
       "      <td>1145.000000</td>\n",
       "      <td>1153.579956</td>\n",
       "      <td>1238800</td>\n",
       "    </tr>\n",
       "    <tr>\n",
       "      <th>3</th>\n",
       "      <td>1150.969971</td>\n",
       "      <td>1158.359985</td>\n",
       "      <td>1145.770020</td>\n",
       "      <td>1146.349976</td>\n",
       "      <td>1170000</td>\n",
       "    </tr>\n",
       "    <tr>\n",
       "      <th>4</th>\n",
       "      <td>1141.739990</td>\n",
       "      <td>1147.604980</td>\n",
       "      <td>1132.729980</td>\n",
       "      <td>1146.329956</td>\n",
       "      <td>1291300</td>\n",
       "    </tr>\n",
       "  </tbody>\n",
       "</table>\n",
       "</div>"
      ],
      "text/plain": [
       "          Open         High          Low        Close   Volume\n",
       "0  1143.989990  1147.339966  1138.780029  1144.900024   864000\n",
       "1  1146.859985  1150.819946  1139.400024  1150.339966   903800\n",
       "2  1146.000000  1158.579956  1145.000000  1153.579956  1238800\n",
       "3  1150.969971  1158.359985  1145.770020  1146.349976  1170000\n",
       "4  1141.739990  1147.604980  1132.729980  1146.329956  1291300"
      ]
     },
     "execution_count": 35,
     "metadata": {},
     "output_type": "execute_result"
    }
   ],
   "source": [
    "df = past_60_days.append(data_test, ignore_index = True)\n",
    "df = df.drop(['Date', 'Adj Close'], axis = 1)\n",
    "df.head()"
   ]
  },
  {
   "cell_type": "code",
   "execution_count": 36,
   "metadata": {
    "scrolled": true
   },
   "outputs": [
    {
     "data": {
      "text/plain": [
       "array([[0.89602895, 0.89654266, 0.90811303, 0.89870435, 0.01037275],\n",
       "       [0.89837835, 0.89938762, 0.90862981, 0.90316877, 0.01085497],\n",
       "       [0.89767436, 0.90573159, 0.91329749, 0.90582774, 0.01491393],\n",
       "       ...,\n",
       "       [0.93940683, 0.93712442, 0.93521069, 0.9247443 , 0.01947328],\n",
       "       [0.92550693, 0.93064972, 0.92782574, 0.9339358 , 0.01954719],\n",
       "       [0.93524016, 0.94894575, 0.95011399, 0.95130949, 0.01398824]])"
      ]
     },
     "execution_count": 36,
     "metadata": {},
     "output_type": "execute_result"
    }
   ],
   "source": [
    "inputs = scaler.transform(df)\n",
    "inputs"
   ]
  },
  {
   "cell_type": "code",
   "execution_count": 37,
   "metadata": {},
   "outputs": [
    {
     "data": {
      "text/plain": [
       "((192, 60, 5), (192,))"
      ]
     },
     "execution_count": 37,
     "metadata": {},
     "output_type": "execute_result"
    }
   ],
   "source": [
    "X_test = []\n",
    "y_test = []\n",
    "\n",
    "for i in range(60, inputs.shape[0]):\n",
    "    X_test.append(inputs[i-60:i])\n",
    "    y_test.append(inputs[i, 0])\n",
    "\n",
    "X_test, y_test = np.array(X_test), np.array(y_test)\n",
    "X_test.shape, y_test.shape"
   ]
  },
  {
   "cell_type": "code",
   "execution_count": 38,
   "metadata": {},
   "outputs": [],
   "source": [
    "y_pred = regressor.predict(X_test)"
   ]
  },
  {
   "cell_type": "code",
   "execution_count": 39,
   "metadata": {},
   "outputs": [
    {
     "data": {
      "text/plain": [
       "array([8.18605127e-04, 8.17521128e-04, 8.33517573e-04, 8.20673293e-04,\n",
       "       1.21162775e-08])"
      ]
     },
     "execution_count": 39,
     "metadata": {},
     "output_type": "execute_result"
    }
   ],
   "source": [
    "scaler.scale_"
   ]
  },
  {
   "cell_type": "code",
   "execution_count": 40,
   "metadata": {},
   "outputs": [
    {
     "data": {
      "text/plain": [
       "1221.5901990069017"
      ]
     },
     "execution_count": 40,
     "metadata": {},
     "output_type": "execute_result"
    }
   ],
   "source": [
    "scale = 1/8.18605127e-04\n",
    "scale"
   ]
  },
  {
   "cell_type": "code",
   "execution_count": 41,
   "metadata": {},
   "outputs": [],
   "source": [
    "y_pred = y_pred*scale\n",
    "y_test = y_test*scale"
   ]
  },
  {
   "cell_type": "code",
   "execution_count": 42,
   "metadata": {},
   "outputs": [
    {
     "data": {
      "image/png": "[encoded data removed]",
      "text/plain": [
       "<Figure size 1008x360 with 1 Axes>"
      ]
     },
     "metadata": {
      "needs_background": "light"
     },
     "output_type": "display_data"
    }
   ],
   "source": [
    "# Visualising the results\n",
    "plt.figure(figsize=(14,5))\n",
    "plt.plot(y_test, color = 'red', label = 'Real Google Stock Price')\n",
    "plt.plot(y_pred, color = 'blue', label = 'Predicted Google Stock Price')\n",
    "plt.title('Google Stock Price Prediction')\n",
    "plt.xlabel('Time')\n",
    "plt.ylabel('Google Stock Price')\n",
    "plt.legend()\n",
    "plt.show()"
   ]
  },
  {
   "cell_type": "code",
   "execution_count": null,
   "metadata": {},
   "outputs": [],
   "source": []
  },
  {
   "cell_type": "code",
   "execution_count": null,
   "metadata": {},
   "outputs": [],
   "source": []
  }
 ],
 "metadata": {
  "kernelspec": {
   "display_name": "Python 3",
   "language": "python",
   "name": "python3"
  },
  "language_info": {
   "codemirror_mode": {
    "name": "ipython",
    "version": 3
   },
   "file_extension": ".py",
   "mimetype": "text/x-python",
   "name": "python",
   "nbconvert_exporter": "python",
   "pygments_lexer": "ipython3",
   "version": "3.8.5"
  }
 },
 "nbformat": 4,
 "nbformat_minor": 4
}
